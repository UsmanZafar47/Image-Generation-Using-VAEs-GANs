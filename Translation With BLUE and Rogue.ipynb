{
 "cells": [
  {
   "cell_type": "code",
   "execution_count": 1,
   "metadata": {
    "execution": {
     "iopub.execute_input": "2024-11-16T12:19:20.557474Z",
     "iopub.status.busy": "2024-11-16T12:19:20.556640Z",
     "iopub.status.idle": "2024-11-16T12:19:53.958941Z",
     "shell.execute_reply": "2024-11-16T12:19:53.957588Z",
     "shell.execute_reply.started": "2024-11-16T12:19:20.557398Z"
    },
    "trusted": true
   },
   "outputs": [
    {
     "name": "stdout",
     "output_type": "stream",
     "text": [
      "Collecting sacrebleu\n",
      "  Downloading sacrebleu-2.4.3-py3-none-any.whl.metadata (51 kB)\n",
      "\u001b[2K     \u001b[90m━━━━━━━━━━━━━━━━━━━━━━━━━━━━━━━━━━━━━━━━\u001b[0m \u001b[32m51.8/51.8 kB\u001b[0m \u001b[31m1.6 MB/s\u001b[0m eta \u001b[36m0:00:00\u001b[0m\n",
      "\u001b[?25hCollecting portalocker (from sacrebleu)\n",
      "  Downloading portalocker-2.10.1-py3-none-any.whl.metadata (8.5 kB)\n",
      "Requirement already satisfied: regex in /opt/conda/lib/python3.10/site-packages (from sacrebleu) (2024.5.15)\n",
      "Requirement already satisfied: tabulate>=0.8.9 in /opt/conda/lib/python3.10/site-packages (from sacrebleu) (0.9.0)\n",
      "Requirement already satisfied: numpy>=1.17 in /opt/conda/lib/python3.10/site-packages (from sacrebleu) (1.26.4)\n",
      "Requirement already satisfied: colorama in /opt/conda/lib/python3.10/site-packages (from sacrebleu) (0.4.6)\n",
      "Requirement already satisfied: lxml in /opt/conda/lib/python3.10/site-packages (from sacrebleu) (5.3.0)\n",
      "Downloading sacrebleu-2.4.3-py3-none-any.whl (103 kB)\n",
      "\u001b[2K   \u001b[90m━━━━━━━━━━━━━━━━━━━━━━━━━━━━━━━━━━━━━━━━\u001b[0m \u001b[32m104.0/104.0 kB\u001b[0m \u001b[31m3.2 MB/s\u001b[0m eta \u001b[36m0:00:00\u001b[0m\n",
      "\u001b[?25hDownloading portalocker-2.10.1-py3-none-any.whl (18 kB)\n",
      "Installing collected packages: portalocker, sacrebleu\n",
      "Successfully installed portalocker-2.10.1 sacrebleu-2.4.3\n",
      "Requirement already satisfied: nltk in /opt/conda/lib/python3.10/site-packages (3.2.4)\n",
      "Collecting rouge-score\n",
      "  Downloading rouge_score-0.1.2.tar.gz (17 kB)\n",
      "  Preparing metadata (setup.py) ... \u001b[?25ldone\n",
      "\u001b[?25hRequirement already satisfied: six in /opt/conda/lib/python3.10/site-packages (from nltk) (1.16.0)\n",
      "Requirement already satisfied: absl-py in /opt/conda/lib/python3.10/site-packages (from rouge-score) (1.4.0)\n",
      "Requirement already satisfied: numpy in /opt/conda/lib/python3.10/site-packages (from rouge-score) (1.26.4)\n",
      "Building wheels for collected packages: rouge-score\n",
      "  Building wheel for rouge-score (setup.py) ... \u001b[?25ldone\n",
      "\u001b[?25h  Created wheel for rouge-score: filename=rouge_score-0.1.2-py3-none-any.whl size=24934 sha256=06e5932dd0e918bc847e11d0566a4c5b761eff8e4e487017abefbba695549bf4\n",
      "  Stored in directory: /root/.cache/pip/wheels/5f/dd/89/461065a73be61a532ff8599a28e9beef17985c9e9c31e541b4\n",
      "Successfully built rouge-score\n",
      "Installing collected packages: rouge-score\n",
      "Successfully installed rouge-score-0.1.2\n"
     ]
    }
   ],
   "source": [
    "!pip install sacrebleu\n",
    "!pip install nltk rouge-score"
   ]
  },
  {
   "cell_type": "code",
   "execution_count": null,
   "metadata": {
    "execution": {
     "iopub.execute_input": "2024-11-16T12:19:53.961798Z",
     "iopub.status.busy": "2024-11-16T12:19:53.961314Z",
     "iopub.status.idle": "2024-11-16T12:20:09.141594Z",
     "shell.execute_reply": "2024-11-16T12:20:09.140468Z",
     "shell.execute_reply.started": "2024-11-16T12:19:53.961752Z"
    },
    "trusted": true
   },
   "outputs": [
    {
     "name": "stdout",
     "output_type": "stream",
     "text": [
      "Num GPUs Available:  1\n",
      "GPU(s) are available for training!\n"
     ]
    }
   ],
   "source": [
    "import tensorflow as tf\n",
    "from tensorflow.keras import mixed_precision\n",
    "\n",
    "# Check the number of available GPUs\n",
    "num_gpus = len(tf.config.list_physical_devices('GPU'))\n",
    "print(f\"Number of GPUs available: {num_gpus}\")\n",
    "\n",
    "# Ensure that a GPU is being used\n",
    "physical_devices = tf.config.list_physical_devices('GPU')\n",
    "\n",
    "if num_gpus > 0:\n",
    "    # Enable memory growth for each GPU\n",
    "    for device in physical_devices:\n",
    "        tf.config.set_memory_growth(device, True)\n",
    "    print(\"GPUs are available for training!\")\n",
    "else:\n",
    "    print(\"No GPU detected. The CPU will be used for training.\")\n",
    "\n",
    "# Set mixed precision policy for faster training\n",
    "precision_policy = mixed_precision.Policy('mixed_float16')\n",
    "mixed_precision.set_global_policy(precision_policy)\n"
   ]
  },
  {
   "cell_type": "markdown",
   "metadata": {},
   "source": [
    "# Data Preprocessing"
   ]
  },
  {
   "cell_type": "code",
   "execution_count": null,
   "metadata": {
    "execution": {
     "iopub.execute_input": "2024-11-16T12:20:09.143706Z",
     "iopub.status.busy": "2024-11-16T12:20:09.143061Z",
     "iopub.status.idle": "2024-11-16T12:20:15.048310Z",
     "shell.execute_reply": "2024-11-16T12:20:15.047120Z",
     "shell.execute_reply.started": "2024-11-16T12:20:09.143663Z"
    },
    "trusted": true
   },
   "outputs": [
    {
     "name": "stderr",
     "output_type": "stream",
     "text": [
      "sentencepiece_trainer.cc(178) LOG(INFO) Running command: --input=en_spm.txt --model_prefix=en_spm --vocab_size=5000\n",
      "sentencepiece_trainer.cc(78) LOG(INFO) Starts training with : \n",
      "trainer_spec {\n",
      "  input: en_spm.txt\n",
      "  input_format: \n",
      "  model_prefix: en_spm\n",
      "  model_type: UNIGRAM\n",
      "  vocab_size: 5000\n",
      "  self_test_sample_size: 0\n",
      "  character_coverage: 0.9995\n",
      "  input_sentence_size: 0\n",
      "  shuffle_input_sentence: 1\n",
      "  seed_sentencepiece_size: 1000000\n",
      "  shrinking_factor: 0.75\n",
      "  max_sentence_length: 4192\n",
      "  num_threads: 16\n",
      "  num_sub_iterations: 2\n",
      "  max_sentencepiece_length: 16\n",
      "  split_by_unicode_script: 1\n",
      "  split_by_number: 1\n",
      "  split_by_whitespace: 1\n",
      "  split_digits: 0\n",
      "  pretokenization_delimiter: \n",
      "  treat_whitespace_as_suffix: 0\n",
      "  allow_whitespace_only_pieces: 0\n",
      "  required_chars: \n",
      "  byte_fallback: 0\n",
      "  vocabulary_output_piece_score: 1\n",
      "  train_extremely_large_corpus: 0\n",
      "  seed_sentencepieces_file: \n",
      "  hard_vocab_limit: 1\n",
      "  use_all_vocab: 0\n",
      "  unk_id: 0\n",
      "  bos_id: 1\n",
      "  eos_id: 2\n",
      "  pad_id: -1\n",
      "  unk_piece: <unk>\n",
      "  bos_piece: <s>\n",
      "  eos_piece: </s>\n",
      "  pad_piece: <pad>\n",
      "  unk_surface:  ⁇ \n",
      "  enable_differential_privacy: 0\n",
      "  differential_privacy_noise_level: 0\n",
      "  differential_privacy_clipping_threshold: 0\n",
      "}\n",
      "normalizer_spec {\n",
      "  name: nmt_nfkc\n",
      "  add_dummy_prefix: 1\n",
      "  remove_extra_whitespaces: 1\n",
      "  escape_whitespaces: 1\n",
      "  normalization_rule_tsv: \n",
      "}\n",
      "denormalizer_spec {}\n",
      "trainer_interface.cc(353) LOG(INFO) SentenceIterator is not specified. Using MultiFileSentenceIterator.\n",
      "trainer_interface.cc(185) LOG(INFO) Loading corpus: en_spm.txt\n",
      "trainer_interface.cc(409) LOG(INFO) Loaded all 13400 sentences\n",
      "trainer_interface.cc(425) LOG(INFO) Adding meta_piece: <unk>\n",
      "trainer_interface.cc(425) LOG(INFO) Adding meta_piece: <s>\n",
      "trainer_interface.cc(425) LOG(INFO) Adding meta_piece: </s>\n",
      "trainer_interface.cc(430) LOG(INFO) Normalizing sentences...\n",
      "trainer_interface.cc(539) LOG(INFO) all chars count=2044997\n",
      "trainer_interface.cc(550) LOG(INFO) Done: 99.9583% characters are covered.\n",
      "trainer_interface.cc(560) LOG(INFO) Alphabet size=60\n",
      "trainer_interface.cc(561) LOG(INFO) Final character coverage=0.999583\n",
      "trainer_interface.cc(592) LOG(INFO) Done! preprocessed 13400 sentences.\n",
      "unigram_model_trainer.cc(265) LOG(INFO) Making suffix array...\n",
      "unigram_model_trainer.cc(269) LOG(INFO) Extracting frequent sub strings... node_num=1072000\n",
      "unigram_model_trainer.cc(312) LOG(INFO) Initialized 23043 seed sentencepieces\n",
      "trainer_interface.cc(598) LOG(INFO) Tokenizing input sentences with whitespace: 13400\n",
      "trainer_interface.cc(609) LOG(INFO) Done! 12080\n",
      "unigram_model_trainer.cc(602) LOG(INFO) Using 12080 sentences for EM training\n",
      "unigram_model_trainer.cc(618) LOG(INFO) EM sub_iter=0 size=9964 obj=9.28287 num_tokens=22918 num_tokens/piece=2.30008\n",
      "unigram_model_trainer.cc(618) LOG(INFO) EM sub_iter=1 size=7497 obj=7.67549 num_tokens=23197 num_tokens/piece=3.09417\n",
      "unigram_model_trainer.cc(618) LOG(INFO) EM sub_iter=0 size=5586 obj=7.62571 num_tokens=24693 num_tokens/piece=4.42052\n",
      "unigram_model_trainer.cc(618) LOG(INFO) EM sub_iter=1 size=5579 obj=7.58736 num_tokens=24711 num_tokens/piece=4.42929\n",
      "unigram_model_trainer.cc(618) LOG(INFO) EM sub_iter=0 size=5500 obj=7.80828 num_tokens=24780 num_tokens/piece=4.50545\n",
      "unigram_model_trainer.cc(618) LOG(INFO) EM sub_iter=1 size=5499 obj=7.79536 num_tokens=24864 num_tokens/piece=4.52155\n",
      "trainer_interface.cc(687) LOG(INFO) Saving model: en_spm.model\n",
      "trainer_interface.cc(699) LOG(INFO) Saving vocabs: en_spm.vocab\n",
      "sentencepiece_trainer.cc(178) LOG(INFO) Running command: --input=ur_spm.txt --model_prefix=ur_spm --vocab_size=5000\n",
      "sentencepiece_trainer.cc(78) LOG(INFO) Starts training with : \n",
      "trainer_spec {\n",
      "  input: ur_spm.txt\n",
      "  input_format: \n",
      "  model_prefix: ur_spm\n",
      "  model_type: UNIGRAM\n",
      "  vocab_size: 5000\n",
      "  self_test_sample_size: 0\n",
      "  character_coverage: 0.9995\n",
      "  input_sentence_size: 0\n",
      "  shuffle_input_sentence: 1\n",
      "  seed_sentencepiece_size: 1000000\n",
      "  shrinking_factor: 0.75\n",
      "  max_sentence_length: 4192\n",
      "  num_threads: 16\n",
      "  num_sub_iterations: 2\n",
      "  max_sentencepiece_length: 16\n",
      "  split_by_unicode_script: 1\n",
      "  split_by_number: 1\n",
      "  split_by_whitespace: 1\n",
      "  split_digits: 0\n",
      "  pretokenization_delimiter: \n",
      "  treat_whitespace_as_suffix: 0\n",
      "  allow_whitespace_only_pieces: 0\n",
      "  required_chars: \n",
      "  byte_fallback: 0\n",
      "  vocabulary_output_piece_score: 1\n",
      "  train_extremely_large_corpus: 0\n",
      "  seed_sentencepieces_file: \n",
      "  hard_vocab_limit: 1\n",
      "  use_all_vocab: 0\n",
      "  unk_id: 0\n",
      "  bos_id: 1\n",
      "  eos_id: 2\n",
      "  pad_id: -1\n",
      "  unk_piece: <unk>\n",
      "  bos_piece: <s>\n",
      "  eos_piece: </s>\n",
      "  pad_piece: <pad>\n",
      "  unk_surface:  ⁇ \n",
      "  enable_differential_privacy: 0\n",
      "  differential_privacy_noise_level: 0\n",
      "  differential_privacy_clipping_threshold: 0\n",
      "}\n",
      "normalizer_spec {\n",
      "  name: nmt_nfkc\n",
      "  add_dummy_prefix: 1\n",
      "  remove_extra_whitespaces: 1\n",
      "  escape_whitespaces: 1\n",
      "  normalization_rule_tsv: \n",
      "}\n",
      "denormalizer_spec {}\n",
      "trainer_interface.cc(353) LOG(INFO) SentenceIterator is not specified. Using MultiFileSentenceIterator.\n",
      "trainer_interface.cc(185) LOG(INFO) Loading corpus: ur_spm.txt\n",
      "trainer_interface.cc(409) LOG(INFO) Loaded all 13400 sentences\n",
      "trainer_interface.cc(425) LOG(INFO) Adding meta_piece: <unk>\n",
      "trainer_interface.cc(425) LOG(INFO) Adding meta_piece: <s>\n",
      "trainer_interface.cc(425) LOG(INFO) Adding meta_piece: </s>\n",
      "trainer_interface.cc(430) LOG(INFO) Normalizing sentences...\n",
      "trainer_interface.cc(539) LOG(INFO) all chars count=1739889\n",
      "trainer_interface.cc(550) LOG(INFO) Done: 99.9622% characters are covered.\n",
      "trainer_interface.cc(560) LOG(INFO) Alphabet size=48\n",
      "trainer_interface.cc(561) LOG(INFO) Final character coverage=0.999622\n",
      "trainer_interface.cc(592) LOG(INFO) Done! preprocessed 13400 sentences.\n",
      "unigram_model_trainer.cc(265) LOG(INFO) Making suffix array...\n",
      "unigram_model_trainer.cc(269) LOG(INFO) Extracting frequent sub strings... node_num=932937\n",
      "unigram_model_trainer.cc(312) LOG(INFO) Initialized 12269 seed sentencepieces\n",
      "trainer_interface.cc(598) LOG(INFO) Tokenizing input sentences with whitespace: 13400\n",
      "trainer_interface.cc(609) LOG(INFO) Done! 10796\n",
      "unigram_model_trainer.cc(602) LOG(INFO) Using 10796 sentences for EM training\n",
      "unigram_model_trainer.cc(618) LOG(INFO) EM sub_iter=0 size=7256 obj=8.84974 num_tokens=20587 num_tokens/piece=2.83724\n",
      "unigram_model_trainer.cc(618) LOG(INFO) EM sub_iter=1 size=5495 obj=7.74998 num_tokens=20717 num_tokens/piece=3.77015\n",
      "trainer_interface.cc(687) LOG(INFO) Saving model: ur_spm.model\n",
      "trainer_interface.cc(699) LOG(INFO) Saving vocabs: ur_spm.vocab\n"
     ]
    },
    {
     "name": "stdout",
     "output_type": "stream",
     "text": [
      "Tokenized English training data shape: (13400, 30)\n",
      "Tokenized Urdu training data shape: (13400, 30)\n",
      "Tokenized English test data shape: (457, 30)\n",
      "Tokenized Urdu test data shape: (457, 30)\n"
     ]
    }
   ],
   "source": [
    "import tensorflow as tf\n",
    "import sentencepiece as spm\n",
    "import numpy as np\n",
    "import os\n",
    "\n",
    "# Paths for data\n",
    "train_en_dir = '/kaggle/input/english-urdu-translation-data/English2Urdu Data/train/English/'\n",
    "train_ur_dir = '/kaggle/input/english-urdu-translation-data/English2Urdu Data/train/Urdu/'\n",
    "\n",
    "test_en_dir = '/kaggle/input/english-urdu-translation-data/English2Urdu Data/test/English/'\n",
    "test_ur_dir = '/kaggle/input/english-urdu-translation-data/English2Urdu Data/test/Urdu/'\n",
    "\n",
    "# Function to read content from a file\n",
    "def read_file(file_path):\n",
    "    with open(file_path, 'r', encoding='utf-8') as file:\n",
    "        return file.readlines()\n",
    "\n",
    "# Load training data by combining English and Urdu sentences\n",
    "train_en = read_file(os.path.join(train_en_dir, 'bible_train.en')) + read_file(os.path.join(train_en_dir, 'quran_train.en'))\n",
    "train_ur = read_file(os.path.join(train_ur_dir, 'bible_train.ur')) + read_file(os.path.join(train_ur_dir, 'quran_train.ur'))\n",
    "\n",
    "# Load testing data similarly\n",
    "test_en = read_file(os.path.join(test_en_dir, 'bible_test.en')) + read_file(os.path.join(test_en_dir, 'quran_test.en'))\n",
    "test_ur = read_file(os.path.join(test_ur_dir, 'bible_test.ur')) + read_file(os.path.join(test_ur_dir, 'quran_test.ur'))\n",
    "\n",
    "# Function to train a SentencePiece model\n",
    "def train_sentencepiece_model(input_data, model_prefix, vocab_size=5000):\n",
    "    # Write the data to a temporary file for SentencePiece training\n",
    "    with open(f\"{model_prefix}.txt\", \"w\", encoding=\"utf-8\") as temp_file:\n",
    "        for sentence in input_data:\n",
    "            temp_file.write(sentence.strip() + \"\\n\")\n",
    "    \n",
    "    # Train the SentencePiece model\n",
    "    spm.SentencePieceTrainer.train(f'--input={model_prefix}.txt --model_prefix={model_prefix} --vocab_size={vocab_size}')\n",
    "\n",
    "# Train SentencePiece models for English and Urdu\n",
    "train_sentencepiece_model(train_en, \"en_spm\")\n",
    "train_sentencepiece_model(train_ur, \"ur_spm\")\n",
    "\n",
    "# Load the trained SentencePiece models\n",
    "sp_en = spm.SentencePieceProcessor(model_file='en_spm.model')\n",
    "sp_ur = spm.SentencePieceProcessor(model_file='ur_spm.model')\n",
    "\n",
    "# Function to tokenize and pad sentences\n",
    "def tokenize_and_pad(sentences, sp_model, max_length=30):\n",
    "    # Tokenize each sentence using the SentencePiece model\n",
    "    tokenized = [sp_model.encode(sentence, out_type=int) for sentence in sentences]\n",
    "    # Pad the sequences to ensure consistent length\n",
    "    padded = tf.keras.preprocessing.sequence.pad_sequences(tokenized, padding='post', maxlen=max_length, truncating='post')\n",
    "    return np.array(padded)\n",
    "\n",
    "# Tokenizing and padding training and test data\n",
    "train_en_tokenized = tokenize_and_pad(train_en, sp_en)\n",
    "train_ur_tokenized = tokenize_and_pad(train_ur, sp_ur)\n",
    "test_en_tokenized = tokenize_and_pad(test_en, sp_en)\n",
    "test_ur_tokenized = tokenize_and_pad(test_ur, sp_ur)\n",
    "\n",
    "# Print the shapes of the tokenized and padded data\n",
    "print(f\"Tokenized English training data shape: {train_en_tokenized.shape}\")\n",
    "print(f\"Tokenized Urdu training data shape: {train_ur_tokenized.shape}\")\n",
    "print(f\"Tokenized English test data shape: {test_en_tokenized.shape}\")\n",
    "print(f\"Tokenized Urdu test data shape: {test_ur_tokenized.shape}\")\n"
   ]
  },
  {
   "cell_type": "code",
   "execution_count": null,
   "metadata": {
    "execution": {
     "iopub.execute_input": "2024-11-16T12:20:15.051656Z",
     "iopub.status.busy": "2024-11-16T12:20:15.051233Z",
     "iopub.status.idle": "2024-11-16T12:20:15.060202Z",
     "shell.execute_reply": "2024-11-16T12:20:15.058931Z",
     "shell.execute_reply.started": "2024-11-16T12:20:15.051614Z"
    },
    "trusted": true
   },
   "outputs": [
    {
     "name": "stdout",
     "output_type": "stream",
     "text": [
      "Original sentence: ﻿The book of the generation of Jesus Christ , the son of David , the son of Abraham .\n",
      "\n",
      "Tokenized: [  45 1447   11    4  752   11   85   64  130    5    4  206   11  629\n",
      "  638    5    4  206   11  343    7    0    0    0    0    0    0    0\n",
      "    0    0]\n",
      "Decoded without padding: The book of the generation of Jesus Christ , the son of David , the son of Abraham .\n"
     ]
    }
   ],
   "source": [
    "# Print the original sentence and the tokenized version for comparison\n",
    "print(f\"Original sentence: {train_en[0]}\")\n",
    "print(f\"Tokenized: {train_en_tokenized[0]}\")\n",
    "\n",
    "# Filter out padding tokens (which are 0) from the tokenized sentence\n",
    "filtered_tokens = [token for token in train_en_tokenized[0] if token != 0]\n",
    "\n",
    "# Convert the filtered tokens into a numpy array of integers\n",
    "filtered_tokens_array = np.array(filtered_tokens, dtype=int)\n",
    "\n",
    "# Decode the filtered tokens back to the sentence using the SentencePiece model\n",
    "decoded_sentence = sp_en.decode(filtered_tokens_array.tolist())  # Convert array to list for decoding\n",
    "\n",
    "# Print the decoded sentence (without padding)\n",
    "print(f\"Decoded without padding: {decoded_sentence}\")\n"
   ]
  },
  {
   "cell_type": "code",
   "execution_count": 5,
   "metadata": {
    "execution": {
     "iopub.execute_input": "2024-11-16T12:20:15.062311Z",
     "iopub.status.busy": "2024-11-16T12:20:15.061882Z",
     "iopub.status.idle": "2024-11-16T12:20:15.162406Z",
     "shell.execute_reply": "2024-11-16T12:20:15.161311Z",
     "shell.execute_reply.started": "2024-11-16T12:20:15.062267Z"
    },
    "trusted": true
   },
   "outputs": [
    {
     "data": {
      "text/html": [
       "<div>\n",
       "<style scoped>\n",
       "    .dataframe tbody tr th:only-of-type {\n",
       "        vertical-align: middle;\n",
       "    }\n",
       "\n",
       "    .dataframe tbody tr th {\n",
       "        vertical-align: top;\n",
       "    }\n",
       "\n",
       "    .dataframe thead th {\n",
       "        text-align: right;\n",
       "    }\n",
       "</style>\n",
       "<table border=\"1\" class=\"dataframe\">\n",
       "  <thead>\n",
       "    <tr style=\"text-align: right;\">\n",
       "      <th></th>\n",
       "      <th>Dataset</th>\n",
       "      <th>English (Tokenized &amp; Padded)</th>\n",
       "      <th>Urdu (Tokenized &amp; Padded)</th>\n",
       "    </tr>\n",
       "  </thead>\n",
       "  <tbody>\n",
       "    <tr>\n",
       "      <th>0</th>\n",
       "      <td>Train</td>\n",
       "      <td>[45, 1447, 11, 4, 752, 11, 85, 64, 130, 5, 4, ...</td>\n",
       "      <td>[111, 91, 158, 170, 97, 2217, 145, 170, 97, 93...</td>\n",
       "    </tr>\n",
       "    <tr>\n",
       "      <th>1</th>\n",
       "      <td>Train</td>\n",
       "      <td>[343, 446, 23, 634, 585, 3, 4988, 3, 8, 634, 5...</td>\n",
       "      <td>[535, 256, 8, 23, 443, 599, 177, 204, 4, 23, 4...</td>\n",
       "    </tr>\n",
       "    <tr>\n",
       "      <th>2</th>\n",
       "      <td>Train</td>\n",
       "      <td>[17, 611, 6, 446, 23, 4552, 257, 3, 8, 3, 0, 3...</td>\n",
       "      <td>[4, 773, 15, 16, 8, 2763, 1857, 4, 1948, 89, 2...</td>\n",
       "    </tr>\n",
       "    <tr>\n",
       "      <th>3</th>\n",
       "      <td>Train</td>\n",
       "      <td>[17, 161, 2138, 446, 23, 4087, 1729, 1242, 3, ...</td>\n",
       "      <td>[4, 417, 256, 8, 3236, 2955, 122, 177, 204, 4,...</td>\n",
       "    </tr>\n",
       "    <tr>\n",
       "      <th>4</th>\n",
       "      <td>Train</td>\n",
       "      <td>[17, 4001, 446, 23, 4490, 1646, 11, 1401, 1353...</td>\n",
       "      <td>[4, 3376, 8, 1063, 2725, 4875, 110, 8, 177, 20...</td>\n",
       "    </tr>\n",
       "    <tr>\n",
       "      <th>...</th>\n",
       "      <td>...</td>\n",
       "      <td>...</td>\n",
       "      <td>...</td>\n",
       "    </tr>\n",
       "    <tr>\n",
       "      <th>13852</th>\n",
       "      <td>Test</td>\n",
       "      <td>[146, 20, 4, 855, 11, 3, 9, 48, 10, 65, 684, 7...</td>\n",
       "      <td>[29, 58, 47, 9, 32, 238, 12, 5, 0, 0, 0, 0, 0,...</td>\n",
       "    </tr>\n",
       "    <tr>\n",
       "      <th>13853</th>\n",
       "      <td>Test</td>\n",
       "      <td>[146, 20, 4, 69, 11, 4, 3, 9, 479, 10, 693, 3,...</td>\n",
       "      <td>[29, 289, 11, 985, 1477, 32, 369, 12, 5, 0, 0,...</td>\n",
       "    </tr>\n",
       "    <tr>\n",
       "      <th>13854</th>\n",
       "      <td>Test</td>\n",
       "      <td>[590, 1351, 4, 202, 11, 3831, 513, 1024, 22, 2...</td>\n",
       "      <td>[1892, 16, 1067, 450, 7, 412, 8, 29, 45, 59, 7...</td>\n",
       "    </tr>\n",
       "    <tr>\n",
       "      <th>13855</th>\n",
       "      <td>Test</td>\n",
       "      <td>[146, 2360, 6, 97, 4, 171, 6, 11, 65, 684, 7, ...</td>\n",
       "      <td>[29, 47, 9, 7, 167, 9, 13, 6, 1892, 16, 197, 7...</td>\n",
       "    </tr>\n",
       "    <tr>\n",
       "      <th>13856</th>\n",
       "      <td>Test</td>\n",
       "      <td>[1875, 113, 26, 3, 9, 4, 2937, 447, 10, 1040, ...</td>\n",
       "      <td>[590, 20, 1892, 16, 1067, 450, 143, 203, 13, 6...</td>\n",
       "    </tr>\n",
       "  </tbody>\n",
       "</table>\n",
       "<p>13857 rows × 3 columns</p>\n",
       "</div>"
      ],
      "text/plain": [
       "      Dataset                       English (Tokenized & Padded)  \\\n",
       "0       Train  [45, 1447, 11, 4, 752, 11, 85, 64, 130, 5, 4, ...   \n",
       "1       Train  [343, 446, 23, 634, 585, 3, 4988, 3, 8, 634, 5...   \n",
       "2       Train  [17, 611, 6, 446, 23, 4552, 257, 3, 8, 3, 0, 3...   \n",
       "3       Train  [17, 161, 2138, 446, 23, 4087, 1729, 1242, 3, ...   \n",
       "4       Train  [17, 4001, 446, 23, 4490, 1646, 11, 1401, 1353...   \n",
       "...       ...                                                ...   \n",
       "13852    Test  [146, 20, 4, 855, 11, 3, 9, 48, 10, 65, 684, 7...   \n",
       "13853    Test  [146, 20, 4, 69, 11, 4, 3, 9, 479, 10, 693, 3,...   \n",
       "13854    Test  [590, 1351, 4, 202, 11, 3831, 513, 1024, 22, 2...   \n",
       "13855    Test  [146, 2360, 6, 97, 4, 171, 6, 11, 65, 684, 7, ...   \n",
       "13856    Test  [1875, 113, 26, 3, 9, 4, 2937, 447, 10, 1040, ...   \n",
       "\n",
       "                               Urdu (Tokenized & Padded)  \n",
       "0      [111, 91, 158, 170, 97, 2217, 145, 170, 97, 93...  \n",
       "1      [535, 256, 8, 23, 443, 599, 177, 204, 4, 23, 4...  \n",
       "2      [4, 773, 15, 16, 8, 2763, 1857, 4, 1948, 89, 2...  \n",
       "3      [4, 417, 256, 8, 3236, 2955, 122, 177, 204, 4,...  \n",
       "4      [4, 3376, 8, 1063, 2725, 4875, 110, 8, 177, 20...  \n",
       "...                                                  ...  \n",
       "13852  [29, 58, 47, 9, 32, 238, 12, 5, 0, 0, 0, 0, 0,...  \n",
       "13853  [29, 289, 11, 985, 1477, 32, 369, 12, 5, 0, 0,...  \n",
       "13854  [1892, 16, 1067, 450, 7, 412, 8, 29, 45, 59, 7...  \n",
       "13855  [29, 47, 9, 7, 167, 9, 13, 6, 1892, 16, 197, 7...  \n",
       "13856  [590, 20, 1892, 16, 1067, 450, 143, 203, 13, 6...  \n",
       "\n",
       "[13857 rows x 3 columns]"
      ]
     },
     "execution_count": 5,
     "metadata": {},
     "output_type": "execute_result"
    }
   ],
   "source": [
    "import pandas as pd\n",
    "\n",
    "# Create a combined DataFrame\n",
    "data = pd.DataFrame({\n",
    "    'Dataset': ['Train'] * len(train_en_tokenized) + ['Test'] * len(test_en_tokenized),\n",
    "    'English (Tokenized & Padded)': train_en_tokenized.tolist() + test_en_tokenized.tolist(),\n",
    "    'Urdu (Tokenized & Padded)': train_ur_tokenized.tolist() + test_ur_tokenized.tolist()\n",
    "})\n",
    "\n",
    "# Display the first few rows of the DataFrame\n",
    "data"
   ]
  },
  {
   "cell_type": "markdown",
   "metadata": {},
   "source": [
    "# Model Architecture"
   ]
  },
  {
   "cell_type": "code",
   "execution_count": null,
   "metadata": {
    "execution": {
     "iopub.execute_input": "2024-11-16T12:59:00.287072Z",
     "iopub.status.busy": "2024-11-16T12:59:00.286622Z",
     "iopub.status.idle": "2024-11-16T12:59:00.320609Z",
     "shell.execute_reply": "2024-11-16T12:59:00.319348Z",
     "shell.execute_reply.started": "2024-11-16T12:59:00.287032Z"
    },
    "trusted": true
   },
   "outputs": [],
   "source": [
    "import tensorflow as tf\n",
    "from tensorflow.keras import layers, models\n",
    "from tensorflow.keras import backend as K\n",
    "import numpy as np\n",
    "\n",
    "# Hyperparameters\n",
    "embedding_dim = 128\n",
    "hidden_units = 128\n",
    "num_heads = 5\n",
    "num_layers = 6\n",
    "dropout_rate = 0.2  # Increased dropout\n",
    "max_seq_len = 50  # Max sequence length\n",
    "\n",
    "\n",
    "# Custom multi-head attention layer implementation\n",
    "class CustomMultiHeadAttention(layers.Layer):\n",
    "    def __init__(self, num_heads, key_dim, **kwargs):\n",
    "        super(CustomMultiHeadAttention, self).__init__(**kwargs)\n",
    "        self.num_heads = num_heads\n",
    "        self.key_dim = key_dim\n",
    "        self.attention_layer = layers.MultiHeadAttention(\n",
    "            num_heads=self.num_heads,\n",
    "            key_dim=self.key_dim,\n",
    "            dropout=0.1\n",
    "        )\n",
    "\n",
    "    def call(self, query, value, key=None, attention_mask=None, return_attention_scores=False):\n",
    "        # Compute multi-head attention\n",
    "        output, scores = self.attention_layer(\n",
    "            query, value, attention_mask=attention_mask, return_attention_scores=True\n",
    "        )\n",
    "\n",
    "        if return_attention_scores:\n",
    "            return output, scores\n",
    "        return output\n",
    "\n",
    "\n",
    "# Positional encoding function\n",
    "def generate_positional_encoding(seq_len, embedding_dim):\n",
    "    position = np.arange(seq_len)[:, np.newaxis]\n",
    "    div_term = np.exp(np.arange(0, embedding_dim, 2) * -(np.log(10000.0) / embedding_dim))\n",
    "    pos_enc = np.zeros((seq_len, embedding_dim))\n",
    "    pos_enc[:, 0::2] = np.sin(position * div_term)\n",
    "    pos_enc[:, 1::2] = np.cos(position * div_term)\n",
    "    return tf.constant(pos_enc, dtype=tf.float32)\n",
    "\n",
    "\n",
    "# Custom layer to apply positional encoding\n",
    "@keras.utils.register_keras_serializable()\n",
    "class PositionalEncoding(layers.Layer):\n",
    "    def __init__(self, max_seq_len, embedding_dim):\n",
    "        super(PositionalEncoding, self).__init__()\n",
    "        self.pos_enc = generate_positional_encoding(max_seq_len, embedding_dim)\n",
    "\n",
    "    def call(self, inputs):\n",
    "        seq_len = tf.shape(inputs)[1]  # Get the sequence length from the inputs\n",
    "        pos_enc = self.pos_enc[:seq_len, :]  # Slice positional encodings to match sequence length\n",
    "        pos_enc = tf.cast(pos_enc, inputs.dtype)  # Cast to the dtype of inputs\n",
    "        return inputs + pos_enc  # Add positional encoding to input\n",
    "\n",
    "\n",
    "# Encoder Layer with feedforward network and attention\n",
    "def transformer_encoder(inputs, hidden_units, num_heads, dropout_rate, return_attention=False):\n",
    "    # Multi-head self-attention layer\n",
    "    attention_layer = CustomMultiHeadAttention(num_heads=num_heads, key_dim=hidden_units)\n",
    "    attention_output, attention_scores = attention_layer(inputs, inputs, return_attention_scores=True)\n",
    "    \n",
    "    # Apply dropout and layer normalization\n",
    "    attention_output = layers.Dropout(dropout_rate)(attention_output)\n",
    "    attention_output = layers.LayerNormalization()(inputs + attention_output)\n",
    "\n",
    "    # Feed-forward layer\n",
    "    ff_output = layers.Dense(hidden_units * 4, activation='relu')(attention_output)\n",
    "    ff_output = layers.Dense(hidden_units)(ff_output)\n",
    "    ff_output = layers.Dropout(dropout_rate)(ff_output)\n",
    "    ff_output = layers.LayerNormalization()(attention_output + ff_output)\n",
    "\n",
    "    if return_attention:\n",
    "        return ff_output, attention_scores  # Return both output and attention scores\n",
    "    return ff_output\n",
    "\n",
    "\n",
    "# Decoder Layer with attention and feedforward network\n",
    "def transformer_decoder(inputs, enc_outputs, hidden_units, num_heads, dropout_rate, return_attention=False):\n",
    "    # Self-attention on decoder inputs\n",
    "    attention1_layer = CustomMultiHeadAttention(num_heads=num_heads, key_dim=hidden_units)\n",
    "    attention1_output, attention1_scores = attention1_layer(inputs, inputs, return_attention_scores=True)\n",
    "    attention1_output = layers.Dropout(dropout_rate)(attention1_output)\n",
    "    attention1_output = layers.LayerNormalization()(inputs + attention1_output)\n",
    "\n",
    "    # Cross-attention (encoder-decoder attention)\n",
    "    attention2_layer = CustomMultiHeadAttention(num_heads=num_heads, key_dim=hidden_units)\n",
    "    attention2_output, attention2_scores = attention2_layer(attention1_output, enc_outputs, return_attention_scores=True)\n",
    "    attention2_output = layers.Dropout(dropout_rate)(attention2_output)\n",
    "    attention2_output = layers.LayerNormalization()(attention1_output + attention2_output)\n",
    "\n",
    "    # Feed-forward layer\n",
    "    ff_output = layers.Dense(hidden_units * 4, activation='relu')(attention2_output)\n",
    "    ff_output = layers.Dense(hidden_units)(ff_output)\n",
    "    ff_output = layers.Dropout(dropout_rate)(ff_output)\n",
    "    ff_output = layers.LayerNormalization()(attention2_output + ff_output)\n",
    "\n",
    "    if return_attention:\n",
    "        return ff_output, [attention1_scores, attention2_scores]\n",
    "    \n",
    "    return ff_output\n",
    "\n",
    "\n",
    "# Complete Transformer Model with positional encoding and attention\n",
    "def build_transformer(input_vocab_size, target_vocab_size, embedding_dim, num_layers, hidden_units, num_heads, dropout_rate, max_seq_len=500, return_attention=False):\n",
    "    inputs = layers.Input(shape=(None,))\n",
    "    targets = layers.Input(shape=(None,))\n",
    "\n",
    "    # Embedding layers for inputs and targets\n",
    "    encoder_embedding = layers.Embedding(input_vocab_size, embedding_dim)(inputs)\n",
    "    decoder_embedding = layers.Embedding(target_vocab_size, embedding_dim)(targets)\n",
    "\n",
    "    # Add positional encoding to embeddings\n",
    "    pos_enc_layer = PositionalEncoding(max_seq_len, embedding_dim)\n",
    "    encoder_embedding = pos_enc_layer(encoder_embedding)\n",
    "    decoder_embedding = pos_enc_layer(decoder_embedding)\n",
    "\n",
    "    # Encoder layers\n",
    "    encoder_output = encoder_embedding\n",
    "    all_attention_weights = []\n",
    "    for _ in range(num_layers):\n",
    "        encoder_output, attention = transformer_encoder(encoder_output, hidden_units, num_heads, dropout_rate, return_attention=True)\n",
    "        all_attention_weights.append(attention)\n",
    "\n",
    "    # Decoder layers\n",
    "    decoder_output = decoder_embedding\n",
    "    for _ in range(num_layers):\n",
    "        decoder_output, attention = transformer_decoder(decoder_output, encoder_output, hidden_units, num_heads, dropout_rate, return_attention=True)\n",
    "        all_attention_weights.append(attention)\n",
    "\n",
    "    # Output layer for logits\n",
    "    logits = layers.Dense(target_vocab_size)(decoder_output)\n",
    "\n",
    "    # Define and compile the model\n",
    "    model = models.Model(inputs=[inputs, targets], outputs=[logits, all_attention_weights] if return_attention else logits)\n",
    "    model.compile(optimizer=tf.keras.optimizers.Adam(), loss='sparse_categorical_crossentropy', metrics=['accuracy'])\n",
    "\n",
    "    return model\n"
   ]
  },
  {
   "cell_type": "code",
   "execution_count": null,
   "metadata": {
    "execution": {
     "iopub.execute_input": "2024-11-16T12:59:00.713382Z",
     "iopub.status.busy": "2024-11-16T12:59:00.712356Z",
     "iopub.status.idle": "2024-11-16T12:59:03.699882Z",
     "shell.execute_reply": "2024-11-16T12:59:03.698681Z",
     "shell.execute_reply.started": "2024-11-16T12:59:00.713329Z"
    },
    "trusted": true
   },
   "outputs": [],
   "source": [
    "from tensorflow.keras import regularizers\n",
    "\n",
    "# Build model\n",
    "input_vocab_size = len(sp_en)\n",
    "target_vocab_size = len(sp_ur)\n",
    "model = build_transformer_model(input_vocab_size, target_vocab_size, embedding_dim, num_layers, hidden_units, num_heads, dropout_rate)"
   ]
  },
  {
   "cell_type": "markdown",
   "metadata": {},
   "source": [
    "# Hyperparameter Tuning"
   ]
  },
  {
   "cell_type": "code",
   "execution_count": 24,
   "metadata": {
    "execution": {
     "iopub.execute_input": "2024-11-16T12:46:46.328348Z",
     "iopub.status.busy": "2024-11-16T12:46:46.327332Z",
     "iopub.status.idle": "2024-11-16T12:55:17.547104Z",
     "shell.execute_reply": "2024-11-16T12:55:17.546155Z",
     "shell.execute_reply.started": "2024-11-16T12:46:46.328299Z"
    },
    "trusted": true
   },
   "outputs": [
    {
     "name": "stdout",
     "output_type": "stream",
     "text": [
      "Epoch 1/15\n"
     ]
    },
    {
     "name": "stderr",
     "output_type": "stream",
     "text": [
      "W0000 00:00:1731761263.010640     300 assert_op.cc:38] Ignoring Assert operator compile_loss/sparse_categorical_crossentropy/SparseSoftmaxCrossEntropyWithLogits/assert_equal_1/Assert/Assert\n"
     ]
    },
    {
     "name": "stdout",
     "output_type": "stream",
     "text": [
      "\u001b[1m94/95\u001b[0m \u001b[32m━━━━━━━━━━━━━━━━━━━\u001b[0m\u001b[37m━\u001b[0m \u001b[1m0s\u001b[0m 99ms/step - accuracy: 0.0884 - loss: 7.9775"
     ]
    },
    {
     "name": "stderr",
     "output_type": "stream",
     "text": [
      "W0000 00:00:1731761420.530963     302 assert_op.cc:38] Ignoring Assert operator compile_loss/sparse_categorical_crossentropy/SparseSoftmaxCrossEntropyWithLogits/assert_equal_1/Assert/Assert\n"
     ]
    },
    {
     "name": "stdout",
     "output_type": "stream",
     "text": [
      "\u001b[1m95/95\u001b[0m \u001b[32m━━━━━━━━━━━━━━━━━━━━\u001b[0m\u001b[37m\u001b[0m \u001b[1m0s\u001b[0m 2s/step - accuracy: 0.0885 - loss: 7.9732  "
     ]
    },
    {
     "name": "stderr",
     "output_type": "stream",
     "text": [
      "W0000 00:00:1731761577.202062     301 assert_op.cc:38] Ignoring Assert operator compile_loss/sparse_categorical_crossentropy/SparseSoftmaxCrossEntropyWithLogits/assert_equal_1/Assert/Assert\n",
      "W0000 00:00:1731761580.236590     302 assert_op.cc:38] Ignoring Assert operator compile_loss/sparse_categorical_crossentropy/SparseSoftmaxCrossEntropyWithLogits/assert_equal_1/Assert/Assert\n"
     ]
    },
    {
     "name": "stdout",
     "output_type": "stream",
     "text": [
      "\u001b[1m95/95\u001b[0m \u001b[32m━━━━━━━━━━━━━━━━━━━━\u001b[0m\u001b[37m\u001b[0m \u001b[1m377s\u001b[0m 2s/step - accuracy: 0.0887 - loss: 7.9690 - val_accuracy: 0.2538 - val_loss: 6.4801\n",
      "Epoch 2/15\n",
      "\u001b[1m95/95\u001b[0m \u001b[32m━━━━━━━━━━━━━━━━━━━━\u001b[0m\u001b[37m\u001b[0m \u001b[1m10s\u001b[0m 101ms/step - accuracy: 0.1311 - loss: 6.4874 - val_accuracy: 0.2643 - val_loss: 5.5032\n",
      "Epoch 3/15\n",
      "\u001b[1m95/95\u001b[0m \u001b[32m━━━━━━━━━━━━━━━━━━━━\u001b[0m\u001b[37m\u001b[0m \u001b[1m10s\u001b[0m 101ms/step - accuracy: 0.1354 - loss: 5.7518 - val_accuracy: 0.2796 - val_loss: 5.0512\n",
      "Epoch 4/15\n",
      "\u001b[1m95/95\u001b[0m \u001b[32m━━━━━━━━━━━━━━━━━━━━\u001b[0m\u001b[37m\u001b[0m \u001b[1m10s\u001b[0m 100ms/step - accuracy: 0.1460 - loss: 5.4812 - val_accuracy: 0.3006 - val_loss: 4.7690\n",
      "Epoch 5/15\n",
      "\u001b[1m95/95\u001b[0m \u001b[32m━━━━━━━━━━━━━━━━━━━━\u001b[0m\u001b[37m\u001b[0m \u001b[1m10s\u001b[0m 101ms/step - accuracy: 0.1768 - loss: 5.2837 - val_accuracy: 0.3193 - val_loss: 4.5022\n",
      "Epoch 6/15\n",
      "\u001b[1m95/95\u001b[0m \u001b[32m━━━━━━━━━━━━━━━━━━━━\u001b[0m\u001b[37m\u001b[0m \u001b[1m10s\u001b[0m 101ms/step - accuracy: 0.2003 - loss: 5.0479 - val_accuracy: 0.3370 - val_loss: 4.2636\n",
      "Epoch 7/15\n",
      "\u001b[1m95/95\u001b[0m \u001b[32m━━━━━━━━━━━━━━━━━━━━\u001b[0m\u001b[37m\u001b[0m \u001b[1m10s\u001b[0m 100ms/step - accuracy: 0.2286 - loss: 4.8223 - val_accuracy: 0.3688 - val_loss: 4.0363\n",
      "Epoch 8/15\n",
      "\u001b[1m95/95\u001b[0m \u001b[32m━━━━━━━━━━━━━━━━━━━━\u001b[0m\u001b[37m\u001b[0m \u001b[1m10s\u001b[0m 101ms/step - accuracy: 0.2620 - loss: 4.5936 - val_accuracy: 0.3942 - val_loss: 3.8305\n",
      "Epoch 9/15\n",
      "\u001b[1m95/95\u001b[0m \u001b[32m━━━━━━━━━━━━━━━━━━━━\u001b[0m\u001b[37m\u001b[0m \u001b[1m10s\u001b[0m 101ms/step - accuracy: 0.2941 - loss: 4.3661 - val_accuracy: 0.4163 - val_loss: 3.6419\n",
      "Epoch 10/15\n",
      "\u001b[1m95/95\u001b[0m \u001b[32m━━━━━━━━━━━━━━━━━━━━\u001b[0m\u001b[37m\u001b[0m \u001b[1m10s\u001b[0m 101ms/step - accuracy: 0.3278 - loss: 4.1423 - val_accuracy: 0.4607 - val_loss: 3.3659\n",
      "Epoch 11/15\n",
      "\u001b[1m95/95\u001b[0m \u001b[32m━━━━━━━━━━━━━━━━━━━━\u001b[0m\u001b[37m\u001b[0m \u001b[1m10s\u001b[0m 100ms/step - accuracy: 0.3770 - loss: 3.8252 - val_accuracy: 0.5064 - val_loss: 3.0590\n",
      "Epoch 12/15\n",
      "\u001b[1m95/95\u001b[0m \u001b[32m━━━━━━━━━━━━━━━━━━━━\u001b[0m\u001b[37m\u001b[0m \u001b[1m10s\u001b[0m 101ms/step - accuracy: 0.4330 - loss: 3.4796 - val_accuracy: 0.5485 - val_loss: 2.7610\n",
      "Epoch 13/15\n",
      "\u001b[1m95/95\u001b[0m \u001b[32m━━━━━━━━━━━━━━━━━━━━\u001b[0m\u001b[37m\u001b[0m \u001b[1m10s\u001b[0m 101ms/step - accuracy: 0.4837 - loss: 3.1256 - val_accuracy: 0.6073 - val_loss: 2.4387\n",
      "Epoch 14/15\n",
      "\u001b[1m95/95\u001b[0m \u001b[32m━━━━━━━━━━━━━━━━━━━━\u001b[0m\u001b[37m\u001b[0m \u001b[1m10s\u001b[0m 100ms/step - accuracy: 0.5420 - loss: 2.7852 - val_accuracy: 0.6675 - val_loss: 2.1357\n",
      "Epoch 15/15\n",
      "\u001b[1m95/95\u001b[0m \u001b[32m━━━━━━━━━━━━━━━━━━━━\u001b[0m\u001b[37m\u001b[0m \u001b[1m10s\u001b[0m 101ms/step - accuracy: 0.6033 - loss: 2.4573 - val_accuracy: 0.7017 - val_loss: 1.8970\n"
     ]
    }
   ],
   "source": [
    "# Enable eager execution if not already enabled\n",
    "if not tf.executing_eagerly():\n",
    "    tf.compat.v1.enable_eager_execution()\n",
    "\n",
    "# Updated Hyperparameters and Training Setup\n",
    "batch_size = 128  # Smaller batch size\n",
    "epochs = 15\n",
    "learning_rate = 1e-4  # Use a scheduler to decrease over epochs\n",
    "\n",
    "# Define a custom learning rate scheduler\n",
    "lr_schedule = tf.keras.optimizers.schedules.ExponentialDecay(\n",
    "    initial_learning_rate=learning_rate,\n",
    "    decay_steps=1000,\n",
    "    decay_rate=0.95,\n",
    "    staircase=True\n",
    ")\n",
    "\n",
    "# Compile model with learning rate scheduler\n",
    "model.compile(optimizer=tf.keras.optimizers.Adam(learning_rate=lr_schedule), \n",
    "              loss=tf.keras.losses.SparseCategoricalCrossentropy(from_logits=True), \n",
    "              metrics=['accuracy'])\n",
    "\n",
    "# Early stopping callback\n",
    "early_stopping = tf.keras.callbacks.EarlyStopping(monitor='val_loss', patience=3, restore_best_weights=True)\n",
    "\n",
    "# Train model on GPU (if available)\n",
    "history = model.fit(\n",
    "    x=[train_en_tokenized, train_ur_tokenized[:, :-1]],  # Use `train_ur_tokenized[:, :-1]` for shifted target input\n",
    "    y=train_ur_tokenized[:, 1:],  # Shifted target data\n",
    "    batch_size=batch_size,\n",
    "    epochs=epochs,\n",
    "    validation_split=0.1,\n",
    "    callbacks=[early_stopping]\n",
    ")"
   ]
  },
  {
   "cell_type": "code",
   "execution_count": 20,
   "metadata": {
    "execution": {
     "iopub.execute_input": "2024-11-16T12:43:57.676890Z",
     "iopub.status.busy": "2024-11-16T12:43:57.676107Z",
     "iopub.status.idle": "2024-11-16T12:43:59.326359Z",
     "shell.execute_reply": "2024-11-16T12:43:59.325240Z",
     "shell.execute_reply.started": "2024-11-16T12:43:57.676839Z"
    },
    "trusted": true
   },
   "outputs": [
    {
     "name": "stdout",
     "output_type": "stream",
     "text": [
      "Model saved in TensorFlow .tf format at saved_models/model_trasnformer.keras\n"
     ]
    }
   ],
   "source": [
    "import time\n",
    "import os\n",
    "\n",
    "# Create a directory for saving the model (if it doesn't exist)\n",
    "model_dir = 'saved_models'\n",
    "os.makedirs(model_dir, exist_ok=True)\n",
    "\n",
    "# Create a unique name for the model based on timestamp or other identifiers\n",
    "timestamp = int(time.time())\n",
    "model_filename = os.path.join(model_dir, f\"model_trasnformer.keras\")\n",
    "\n",
    "# Save the model in the TensorFlow SavedModel format\n",
    "model.save(model_filename)\n",
    "\n",
    "print(f\"Model saved in TensorFlow .tf format at {model_filename}\")"
   ]
  },
  {
   "cell_type": "markdown",
   "metadata": {},
   "source": [
    "# Translation and Evaluation with BLEU and ROUGE"
   ]
  },
  {
   "cell_type": "code",
   "execution_count": null,
   "metadata": {
    "execution": {
     "iopub.execute_input": "2024-11-16T13:20:40.380949Z",
     "iopub.status.busy": "2024-11-16T13:20:40.380390Z",
     "iopub.status.idle": "2024-11-16T13:22:01.531677Z",
     "shell.execute_reply": "2024-11-16T13:22:01.530464Z",
     "shell.execute_reply.started": "2024-11-16T13:20:40.380894Z"
    },
    "trusted": true
   },
   "outputs": [
    {
     "name": "stderr",
     "output_type": "stream",
     "text": [
      "/opt/conda/lib/python3.10/site-packages/keras/src/ops/nn.py:545: UserWarning: You are using a softmax over axis 3 of a tensor of shape (1, 5, 1, 1). This axis has size 1. The softmax operation will always return the value 1, which is likely not what you intended. Did you mean to use a sigmoid instead?\n",
      "  warnings.warn(\n"
     ]
    },
    {
     "name": "stdout",
     "output_type": "stream",
     "text": [
      "Input (English): And the four angels were loosed , which were prepared for an hour , and a day , and a month , and a year , for to slay the third part of men .\n",
      "\n",
      "Translation (Predicted Urdu): جنک جنکگذار بڑھن بڑھن بڑھن بڑھنسنسنسنیجئےعم جنک جنک تیساح نامہ تیس تیس تیس تیس نمکہناہنا پہاڑ\n"
     ]
    }
   ],
   "source": [
    "import numpy as np\n",
    "\n",
    "def translate(model, input_seq, target_sp_model, max_length=25, start_token=1, end_token=2):\n",
    "    \"\"\"\n",
    "    Translate a sequence using the trained model.\n",
    "\n",
    "    :param model: Trained model\n",
    "    :param input_seq: Input sequence (tokenized format of English sentence)\n",
    "    :param target_sp_model: SentencePiece model for the target language (Urdu)\n",
    "    :param max_length: Maximum length of the translation\n",
    "    :param start_token: Token ID for the start of the sentence (usually 1 for many models)\n",
    "    :param end_token: Token ID for the end of the sentence (usually 2 for many models)\n",
    "    :return: Translated sentence in the target language\n",
    "    \"\"\"\n",
    "    # Add batch dimension to the input sequence\n",
    "    input_seq = np.expand_dims(input_seq, axis=0)\n",
    "    \n",
    "    # Prepare initial decoder input (start token)\n",
    "    decoder_input = np.array([[start_token]])  # Start with the start token\n",
    "    \n",
    "    translated_tokens = []  # To store translated tokens\n",
    "    \n",
    "    # Loop to generate each token in the sequence up to max_length\n",
    "    for _ in range(max_length):\n",
    "        # Predict the next token\n",
    "        prediction = model.predict([input_seq, decoder_input], verbose=0)  # Pass both encoder and decoder inputs\n",
    "        predicted_token = np.argmax(prediction[0, -1, :])  # Take the token with the highest probability\n",
    "\n",
    "        if predicted_token == end_token:\n",
    "            break  # Stop if the end token is generated\n",
    "\n",
    "        # Append the predicted token to the list of translated tokens\n",
    "        translated_tokens.append(predicted_token)\n",
    "        \n",
    "        # Update the decoder input for the next token (append the predicted token)\n",
    "        decoder_input = np.hstack([decoder_input, np.array([[predicted_token]])])  # Append token for next step\n",
    "    \n",
    "    # Decode the predicted token sequence to the target language words\n",
    "    decoded_sentence = target_sp_model.decode(translated_tokens)\n",
    "    \n",
    "    return decoded_sentence\n",
    "\n",
    "# Example usage\n",
    "example_input = test_en_tokenized[10]  # First test sentence (tokenized)\n",
    "translated_output = translate(model, example_input, sp_ur)\n",
    "\n",
    "print(\"Input (English):\", test_en[10])\n",
    "print(\"Translation (Predicted Urdu):\", translated_output)\n"
   ]
  },
  {
   "cell_type": "code",
   "execution_count": 39,
   "metadata": {
    "execution": {
     "iopub.execute_input": "2024-11-16T13:23:56.666334Z",
     "iopub.status.busy": "2024-11-16T13:23:56.665140Z",
     "iopub.status.idle": "2024-11-16T13:24:02.166473Z",
     "shell.execute_reply": "2024-11-16T13:24:02.165363Z",
     "shell.execute_reply.started": "2024-11-16T13:23:56.666285Z"
    },
    "trusted": true
   },
   "outputs": [
    {
     "name": "stdout",
     "output_type": "stream",
     "text": [
      "\u001b[1m1/1\u001b[0m \u001b[32m━━━━━━━━━━━━━━━━━━━━\u001b[0m\u001b[37m\u001b[0m \u001b[1m5s\u001b[0m 5s/step\n",
      "Predicted Probabilities (Raw): [[[ 0.1641  -0.0387  -0.2356  ... -0.2363   0.134   -0.04852]\n",
      "  [ 0.1953  -0.0713  -0.155   ... -0.255    0.1925   0.05234]\n",
      "  [ 0.1901  -0.2178  -0.0986  ... -0.2559   0.27     0.1821 ]]]\n",
      "Decoded Translation: جنک جنکگذار\n"
     ]
    }
   ],
   "source": [
    "# Example to check the output tokens and the decoded translation\n",
    "input_sentence = \"And to them it was given that they should not kill them , but that they should be tormented five months : and their torment was as the torment of a scorpion , when he striketh a man .\"\n",
    "\n",
    "# Tokenize the input sentence using the English SentencePiece model\n",
    "input_tokens = sp_en.encode(input_sentence)  # Tokenize input using English model\n",
    "\n",
    "# Pad the input tokens to a fixed length if necessary (use appropriate padding length)\n",
    "input_tokens_padded = tf.keras.preprocessing.sequence.pad_sequences([input_tokens], padding='post')\n",
    "\n",
    "# Create a target sequence (usually start token for the decoder)\n",
    "start_token = sp_ur.encode(\"<sos>\")  # Assuming <sos> is the start token in the Urdu model\n",
    "target_tokens = start_token + [sp_ur.pad_id()]  # Add padding to ensure a minimum length (may not be necessary)\n",
    "\n",
    "# Pad the target tokens if necessary (optional)\n",
    "target_tokens_padded = tf.keras.preprocessing.sequence.pad_sequences([target_tokens], padding='post')\n",
    "\n",
    "# Predict the output token sequence (sequence-to-sequence model)\n",
    "predicted_probs = model.predict([input_tokens_padded, target_tokens_padded])\n",
    "\n",
    "# Check the predicted probabilities\n",
    "print(\"Predicted Probabilities (Raw):\", predicted_probs)\n",
    "\n",
    "# Extract the token sequence by taking the token with the highest probability\n",
    "# predicted_probs has shape (batch_size, seq_len, vocab_size), we take argmax along the last axis (vocab_size)\n",
    "predicted_tokens_flat = predicted_probs[0].argmax(axis=-1)\n",
    "\n",
    "# Flatten the array into 1D (use .flatten() if it's multi-dimensional)\n",
    "predicted_tokens_flat = predicted_tokens_flat.flatten()  # Ensure it's a 1D array\n",
    "\n",
    "# Filter out padding tokens (e.g., <pad> token ID) from the prediction\n",
    "predicted_tokens_cleaned = [token for token in predicted_tokens_flat if token != sp_ur.pad_id()]\n",
    "\n",
    "# Ensure the cleaned tokens are in the correct format (list of integers)\n",
    "predicted_tokens_cleaned = list(map(int, predicted_tokens_cleaned))\n",
    "\n",
    "# Decode the predicted tokens to get the translation in Urdu\n",
    "decoded_translation = sp_ur.decode(predicted_tokens_cleaned)  # Decode the sequence of predicted token IDs\n",
    "print(\"Decoded Translation:\", decoded_translation)\n"
   ]
  },
  {
   "cell_type": "markdown",
   "metadata": {},
   "source": [
    "## BLEU Score"
   ]
  },
  {
   "cell_type": "code",
   "execution_count": 44,
   "metadata": {
    "execution": {
     "iopub.execute_input": "2024-11-16T13:24:57.259721Z",
     "iopub.status.busy": "2024-11-16T13:24:57.259000Z",
     "iopub.status.idle": "2024-11-16T13:25:18.205857Z",
     "shell.execute_reply": "2024-11-16T13:25:18.204611Z",
     "shell.execute_reply.started": "2024-11-16T13:24:57.259675Z"
    },
    "trusted": true
   },
   "outputs": [
    {
     "name": "stdout",
     "output_type": "stream",
     "text": [
      "10\n",
      "0: done\n",
      "1: done\n",
      "2: done\n",
      "3: done\n",
      "4: done\n",
      "5: done\n",
      "6: done\n",
      "7: done\n",
      "8: done\n",
      "9: done\n",
      "BLEU Score: 0.428162\n"
     ]
    }
   ],
   "source": [
    "import nltk\n",
    "from nltk.translate.bleu_score import corpus_bleu\n",
    "\n",
    "# Choose a smaller subset of the data for testing\n",
    "num_samples = 10  # Change this number to the desired subset size\n",
    "test_ur_subset = test_ur[:num_samples]\n",
    "test_en_tokenized_subset = test_en_tokenized[:num_samples]\n",
    "\n",
    "# Prepare the reference (ground truth) translations and the model predictions\n",
    "references = [[sentence.split()] for sentence in test_ur_subset]  # Split each sentence into words (reference)\n",
    "predictions = []\n",
    "\n",
    "print(len(test_en_tokenized_subset))\n",
    "for i, sentence in enumerate(test_en_tokenized_subset):\n",
    "    translated_sentence = translate(model, sentence, sp_ur)\n",
    "    print(f\"{i}: done\")\n",
    "    predictions.append(translated_sentence.split())  # Tokenize predicted sentence\n",
    "\n",
    "# Calculate BLEU score on the subset\n",
    "_bleu_score = corpus_bleu(references, predictions)\n",
    "print(\"BLEU Score:\", bleu_score)\n"
   ]
  },
  {
   "cell_type": "markdown",
   "metadata": {},
   "source": [
    "## Rogue Score"
   ]
  },
  {
   "cell_type": "code",
   "execution_count": 45,
   "metadata": {
    "execution": {
     "iopub.execute_input": "2024-11-16T13:25:18.208327Z",
     "iopub.status.busy": "2024-11-16T13:25:18.207934Z",
     "iopub.status.idle": "2024-11-16T13:25:18.227555Z",
     "shell.execute_reply": "2024-11-16T13:25:18.226402Z",
     "shell.execute_reply.started": "2024-11-16T13:25:18.208287Z"
    },
    "trusted": true
   },
   "outputs": [
    {
     "name": "stdout",
     "output_type": "stream",
     "text": [
      "Sample Reference: ا و ر   ا ن ہ ی ں   ج ا ن   س ے   م ا ر ن ے   ک ا   ن ہ ی ں   ب ل ک ہ   پ ا ن چ   م ہ ی ن ے   ت ک   ل و گ و ں   ک و   ا ذ ی ت   د ی ن ے   ک ا   ا خ ت ی ا ر   د ی ا   گ ی ا   ا و ر   ا ن   ک ی   ا ذ ی ت   ا ی س ی   ت ھ ی   ج ی س ے   ب چ ھ و   ک ے   ڈ ن ک   م ا ر ن ے   س ے   آ د م ی   ک و   ہ و ت ی   ہ ے   ۔ \n",
      "\n",
      "Sample Prediction: جنک جنکگذار بڑھن بڑھن بڑھن بڑھنسنسنسنیجئےعم جنک جنک تیساح نامہ تیس تیس تیس تیس نمکہناہنا پہاڑ\n",
      "Average ROUGE-1 F1 Score: 0.0\n",
      "Average ROUGE-2 F1 Score: 0.0\n",
      "Average ROUGE-L F1 Score: 0.0\n"
     ]
    }
   ],
   "source": [
    "from rouge_score import rouge_scorer\n",
    "\n",
    "# Initialize ROUGE scorer\n",
    "scorer = rouge_scorer.RougeScorer(['rouge1', 'rouge2', 'rougeL'], use_stemmer=True)\n",
    "\n",
    "# Ensure references are consistently formatted (e.g., lowercase, joined by spaces)\n",
    "references = [' '.join(sentence).lower() for sentence in test_ur]  # Join tokenized Urdu references if needed\n",
    "predictions = [' '.join(pred).lower() for pred in predictions]  # Ensure predictions are also lowercase and joined\n",
    "\n",
    "# Debugging output: Check the contents of references and predictions\n",
    "print(\"Sample Reference:\", references[0])\n",
    "print(\"Sample Prediction:\", predictions[0])\n",
    "\n",
    "# Calculate ROUGE scores for all test examples\n",
    "rouge_scores = []\n",
    "for ref, pred in zip(references, predictions):\n",
    "    rouge_score = scorer.score(ref, pred)\n",
    "    rouge_scores.append(rouge_score)\n",
    "\n",
    "# Compute average ROUGE scores\n",
    "average_rouge1 = sum([score['rouge1'].fmeasure for score in rouge_scores]) / len(rouge_scores)\n",
    "average_rouge2 = sum([score['rouge2'].fmeasure for score in rouge_scores]) / len(rouge_scores)\n",
    "average_rougeL = sum([score['rougeL'].fmeasure for score in rouge_scores]) / len(rouge_scores)\n",
    "\n",
    "print(\"Average ROUGE-1 F1 Score:\", average_rouge1)\n",
    "print(\"Average ROUGE-2 F1 Score:\", average_rouge2)\n",
    "print(\"Average ROUGE-L F1 Score:\", average_rougeL)\n"
   ]
  },
  {
   "cell_type": "markdown",
   "metadata": {},
   "source": [
    "# Summary of Results"
   ]
  },
  {
   "cell_type": "code",
   "execution_count": 46,
   "metadata": {
    "execution": {
     "iopub.execute_input": "2024-11-16T13:25:18.229791Z",
     "iopub.status.busy": "2024-11-16T13:25:18.229263Z",
     "iopub.status.idle": "2024-11-16T13:25:18.245685Z",
     "shell.execute_reply": "2024-11-16T13:25:18.244290Z",
     "shell.execute_reply.started": "2024-11-16T13:25:18.229733Z"
    },
    "trusted": true
   },
   "outputs": [
    {
     "name": "stdout",
     "output_type": "stream",
     "text": [
      "BLEU Score: 0.428162\n",
      "ROUGE-1 F1 Score: 0.0\n",
      "ROUGE-2 F1 Score: 0.0\n",
      "ROUGE-L F1 Score: 0.0\n"
     ]
    }
   ],
   "source": [
    "# Display the final results of BLEU and ROUGE evaluation\n",
    "print(\"BLEU Score:\", bleu_score)\n",
    "print(\"ROUGE-1 F1 Score:\", average_rouge1)\n",
    "print(\"ROUGE-2 F1 Score:\", average_rouge2)\n",
    "print(\"ROUGE-L F1 Score:\", average_rougeL)"
   ]
  },
  {
   "cell_type": "code",
   "execution_count": 43,
   "metadata": {
    "execution": {
     "iopub.execute_input": "2024-11-16T13:24:29.085847Z",
     "iopub.status.busy": "2024-11-16T13:24:29.085408Z",
     "iopub.status.idle": "2024-11-16T13:24:29.519296Z",
     "shell.execute_reply": "2024-11-16T13:24:29.518119Z",
     "shell.execute_reply.started": "2024-11-16T13:24:29.085808Z"
    },
    "trusted": true
   },
   "outputs": [
    {
     "data": {
      "image/png": "[encoded data removed]",
      "text/plain": [
       "<Figure size 1000x600 with 1 Axes>"
      ]
     },
     "metadata": {},
     "output_type": "display_data"
    }
   ],
   "source": [
    "import matplotlib.pyplot as plt\n",
    "# Extract the loss values\n",
    "train_loss = history.history['loss']\n",
    "val_loss = history.history['val_loss']\n",
    "\n",
    "# Plot the loss curves\n",
    "plt.figure(figsize=(10, 6))\n",
    "plt.plot(range(epochs), train_loss, label='Training Loss', color='blue')\n",
    "plt.plot(range(epochs), val_loss, label='Validation Loss', color='orange')\n",
    "plt.xlabel('Epochs')\n",
    "plt.ylabel('Loss')\n",
    "plt.title('Training and Validation Loss Curves')\n",
    "plt.legend()\n",
    "plt.grid(True)\n",
    "plt.show()"
   ]
  },
  {
   "cell_type": "code",
   "execution_count": null,
   "metadata": {
    "trusted": true
   },
   "outputs": [],
   "source": []
  }
 ],
 "metadata": {
  "kaggle": {
   "accelerator": "gpu",
   "dataSources": [
    {
     "datasetId": 6056989,
     "sourceId": 9867741,
     "sourceType": "datasetVersion"
    }
   ],
   "dockerImageVersionId": 30786,
   "isGpuEnabled": true,
   "isInternetEnabled": true,
   "language": "python",
   "sourceType": "notebook"
  },
  "kernelspec": {
   "display_name": "Python 3",
   "language": "python",
   "name": "python3"
  },
  "language_info": {
   "codemirror_mode": {
    "name": "ipython",
    "version": 3
   },
   "file_extension": ".py",
   "mimetype": "text/x-python",
   "name": "python",
   "nbconvert_exporter": "python",
   "pygments_lexer": "ipython3",
   "version": "3.10.14"
  }
 },
 "nbformat": 4,
 "nbformat_minor": 4
}
